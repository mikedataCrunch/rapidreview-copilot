{
 "cells": [
  {
   "cell_type": "markdown",
   "metadata": {},
   "source": [
    "### Import libraries"
   ]
  },
  {
   "cell_type": "code",
   "execution_count": 1,
   "metadata": {},
   "outputs": [
    {
     "name": "stderr",
     "output_type": "stream",
     "text": [
      "c:\\Users\\junio\\AppData\\Local\\Programs\\Python\\Python38\\lib\\site-packages\\PyPDF2\\__init__.py:21: DeprecationWarning: PyPDF2 is deprecated. Please move to the pypdf library instead.\n",
      "  warnings.warn(\n"
     ]
    }
   ],
   "source": [
    "REPO_ROOT = \"..\\\\\"\n",
    "\n",
    "import sys\n",
    "sys.path.append(REPO_ROOT)\n",
    "from rrc.text_extraction import ZoteroAPIMetaExtractor"
   ]
  },
  {
   "cell_type": "markdown",
   "metadata": {},
   "source": [
    "<b> Initialize with JSON FileType </b>"
   ]
  },
  {
   "cell_type": "code",
   "execution_count": 2,
   "metadata": {},
   "outputs": [],
   "source": [
    "zotextract = ZoteroAPIMetaExtractor(filetype='json')"
   ]
  },
  {
   "cell_type": "code",
   "execution_count": 3,
   "metadata": {},
   "outputs": [
    {
     "data": {
      "text/plain": [
       "'JSON file created: ZoteroMeta\\\\ZoteroMetadata.json'"
      ]
     },
     "execution_count": 3,
     "metadata": {},
     "output_type": "execute_result"
    }
   ],
   "source": [
    "# Extract from all libraries \n",
    "zotextract.extract(library_id='5306491', library_type='group', api_key='lXdh6UQCfmeDe04C9SBqBOlv')"
   ]
  },
  {
   "cell_type": "code",
   "execution_count": 4,
   "metadata": {},
   "outputs": [
    {
     "data": {
      "text/plain": [
       "'JSON file created: ZoteroMeta\\\\ZoteroMetadata.json'"
      ]
     },
     "execution_count": 4,
     "metadata": {},
     "output_type": "execute_result"
    }
   ],
   "source": [
    "# Extract from specific library\n",
    "zotextract.extract(library_id='5306491', library_type='group', \n",
    "                   api_key='lXdh6UQCfmeDe04C9SBqBOlv', collection_key='9XFKJ5KL')"
   ]
  },
  {
   "cell_type": "markdown",
   "metadata": {},
   "source": [
    "<b> Initialize with CSV FileType </b>"
   ]
  },
  {
   "cell_type": "code",
   "execution_count": 5,
   "metadata": {},
   "outputs": [],
   "source": [
    "zotextract = ZoteroAPIMetaExtractor(filetype='csv')"
   ]
  },
  {
   "cell_type": "code",
   "execution_count": 6,
   "metadata": {},
   "outputs": [
    {
     "data": {
      "text/plain": [
       "'CSV file created: ZoteroMeta\\\\ZoteroMeta.csv'"
      ]
     },
     "execution_count": 6,
     "metadata": {},
     "output_type": "execute_result"
    }
   ],
   "source": [
    "# Extract from all libraries \n",
    "zotextract.extract(library_id='5306491', library_type='group', api_key='lXdh6UQCfmeDe04C9SBqBOlv')"
   ]
  },
  {
   "cell_type": "code",
   "execution_count": 7,
   "metadata": {},
   "outputs": [
    {
     "data": {
      "text/plain": [
       "'CSV file created: ZoteroMeta\\\\ZoteroMeta.csv'"
      ]
     },
     "execution_count": 7,
     "metadata": {},
     "output_type": "execute_result"
    }
   ],
   "source": [
    "# Extract from specific library\n",
    "zotextract.extract(library_id='5306491', library_type='group', \n",
    "                   api_key='lXdh6UQCfmeDe04C9SBqBOlv', collection_key='9XFKJ5KL')"
   ]
  }
 ],
 "metadata": {
  "kernelspec": {
   "display_name": "Python 3 (ipykernel)",
   "language": "python",
   "name": "python3"
  },
  "language_info": {
   "codemirror_mode": {
    "name": "ipython",
    "version": 3
   },
   "file_extension": ".py",
   "mimetype": "text/x-python",
   "name": "python",
   "nbconvert_exporter": "python",
   "pygments_lexer": "ipython3",
   "version": "3.10.6"
  }
 },
 "nbformat": 4,
 "nbformat_minor": 4
}

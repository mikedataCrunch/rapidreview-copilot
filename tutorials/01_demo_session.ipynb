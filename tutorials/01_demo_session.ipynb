{
 "cells": [
  {
   "cell_type": "markdown",
   "id": "8cdafe36-c50b-4ac6-8514-8903a04f46c9",
   "metadata": {},
   "source": [
    "# Demo QA session\n",
    "\n",
    "This notebook demonstrates a Question-answering session using a set of queries that will be answered using an article from a source directory."
   ]
  },
  {
   "cell_type": "code",
   "execution_count": null,
   "id": "e558e78f-0bdf-472c-bf78-c66bc414af97",
   "metadata": {
    "tags": []
   },
   "outputs": [],
   "source": [
    "# imports\n",
    "REPO_ROOT = \"\" # enter path too the rapidreview-copilot repository\n",
    "\n",
    "import sys\n",
    "sys.path.append(REPO_ROOT)\n",
    "\n",
    "from rrc.text_extraction import PDFExtractor\n",
    "from rrc.run_session import RapidReviewSession"
   ]
  },
  {
   "cell_type": "markdown",
   "id": "613738f6-559e-4509-8c2d-491d422791aa",
   "metadata": {},
   "source": [
    "## Text Extraction\n",
    "\n",
    "This section demonstrates an the use of the `PDFExtractor` class which extracts text from PDFs in a source directory and stores the output in a destination directory specified by the user."
   ]
  },
  {
   "cell_type": "code",
   "execution_count": null,
   "id": "f573b8b4-c9af-444b-b032-978f2f09c63e",
   "metadata": {},
   "outputs": [],
   "source": [
    "# run PDF extractor here"
   ]
  },
  {
   "cell_type": "markdown",
   "id": "474f0a7c-2f2a-4ee2-92f9-4cc2b5f4f316",
   "metadata": {},
   "source": [
    "## Question-answering\n",
    "\n",
    "This section demonstrates a question answering using `RapidReviewSession`. *Add more description here on what RapidReviewSession does, specifically inputs needed for the class and the `run_query` method of the class, as well as the outputs expected.*"
   ]
  },
  {
   "cell_type": "code",
   "execution_count": null,
   "id": "21620caa-99d8-4f81-836b-e62105d887bb",
   "metadata": {},
   "outputs": [],
   "source": [
    "# init RapidReviewSession\n",
    "sess = RapidReivewSession(...) # update"
   ]
  },
  {
   "cell_type": "code",
   "execution_count": null,
   "id": "765bf01c-4882-49cb-8ca7-f5f8fc5e4056",
   "metadata": {},
   "outputs": [],
   "source": [
    "# update\n",
    "prompt = \"\"\n",
    "query = \"\"\n",
    "params = {\n",
    "    \"retriever\": {\"filters\" : {\"article_id\": [article_id]}, \"top_k\" : 3},\n",
    "}\n",
    "sess.run_query(...) # update"
   ]
  },
  {
   "cell_type": "code",
   "execution_count": null,
   "id": "5e2164a5-6fb8-4f09-976d-51c84d0b4861",
   "metadata": {},
   "outputs": [],
   "source": [
    "# figure out how PromptNode's run_batch works and update run_query method of the RapidReviewSession class\n",
    "prompt = \"\"\n",
    "queries = []\n",
    "params = {\n",
    "    \"retriever\": {\"filters\" : {\"article_id\": [article_id]}, \"top_k\" : 3},\n",
    "}\n",
    "sess.run_query(...) # needs to be updated to have run_batch functionality"
   ]
  }
 ],
 "metadata": {
  "kernelspec": {
   "display_name": "Python 3 (ipykernel)",
   "language": "python",
   "name": "python3"
  },
  "language_info": {
   "codemirror_mode": {
    "name": "ipython",
    "version": 3
   },
   "file_extension": ".py",
   "mimetype": "text/x-python",
   "name": "python",
   "nbconvert_exporter": "python",
   "pygments_lexer": "ipython3",
   "version": "3.10.12"
  }
 },
 "nbformat": 4,
 "nbformat_minor": 5
}

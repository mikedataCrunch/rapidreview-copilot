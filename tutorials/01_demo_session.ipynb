{
 "cells": [
  {
   "cell_type": "markdown",
   "id": "8cdafe36-c50b-4ac6-8514-8903a04f46c9",
   "metadata": {},
   "source": [
    "# Demo QA session\n",
    "\n",
    "This notebook demonstrates a Question-answering session using a set of queries that will be answered using an article from a source directory."
   ]
  },
  {
   "cell_type": "code",
   "execution_count": 1,
   "id": "e558e78f-0bdf-472c-bf78-c66bc414af97",
   "metadata": {
    "tags": []
   },
   "outputs": [
    {
     "name": "stderr",
     "output_type": "stream",
     "text": [
      "c:\\Users\\junio\\AppData\\Local\\Programs\\Python\\Python38\\lib\\site-packages\\PyPDF2\\__init__.py:21: DeprecationWarning: PyPDF2 is deprecated. Please move to the pypdf library instead.\n",
      "  warnings.warn(\n"
     ]
    }
   ],
   "source": [
    "# imports\n",
    "REPO_ROOT = \"..\\\\\" # enter path too the rapidreview-copilot repository\n",
    "\n",
    "import sys\n",
    "sys.path.append(REPO_ROOT)\n",
    "import os\n",
    "from rrc.text_extraction import PDFExtractor\n",
    "from rrc.run_session import RapidReviewSession"
   ]
  },
  {
   "cell_type": "markdown",
   "id": "613738f6-559e-4509-8c2d-491d422791aa",
   "metadata": {},
   "source": [
    "## Text Extraction\n",
    "\n",
    "This section demonstrates an the use of the `PDFExtractor` class which extracts text from PDFs in a source directory and stores the output in a destination directory specified by the user."
   ]
  },
  {
   "cell_type": "code",
   "execution_count": null,
   "id": "f573b8b4-c9af-444b-b032-978f2f09c63e",
   "metadata": {},
   "outputs": [],
   "source": [
    "# run PDF extractor here\n",
    "file_dir = \"tutorials\\\\articles\"\n",
    "\n",
    "final_file_dir = os.path.join(REPO_ROOT, file_dir)"
   ]
  },
  {
   "cell_type": "code",
   "execution_count": null,
   "metadata": {},
   "outputs": [],
   "source": [
    "final_file_dir"
   ]
  },
  {
   "cell_type": "code",
   "execution_count": null,
   "metadata": {},
   "outputs": [],
   "source": [
    "# Create an instance of PDFExtractor\n",
    "pdf_extractor = PDFExtractor(\"D:\\\\Semester_3.2\\\\HSRC\\\\HSRC_RapidReview_SDK\\\\rapidreview_copilot\\\\tutorials\\\\articles\")\n",
    "\n",
    "# Call mass_extract function to extract text from PDFs\n",
    "extracted_dir = pdf_extractor.mass_extract(extractor='pdfplumber', dest_dir=final_file_dir)\n",
    "\n",
    "# Print the directory where the extracted JSON files are stored\n",
    "print(f\"Extracted JSON files are stored in: {extracted_dir}\")"
   ]
  },
  {
   "cell_type": "code",
   "execution_count": null,
   "metadata": {},
   "outputs": [],
   "source": [
    "pdf_extractor.get_extracted()"
   ]
  },
  {
   "cell_type": "markdown",
   "id": "474f0a7c-2f2a-4ee2-92f9-4cc2b5f4f316",
   "metadata": {},
   "source": [
    "## Question-answering\n",
    "\n",
    "This section demonstrates a question answering using `RapidReviewSession`. *Add more description here on what RapidReviewSession does, specifically inputs needed for the class and the `run_query` method of the class, as well as the outputs expected.*"
   ]
  },
  {
   "cell_type": "code",
   "execution_count": 2,
   "id": "21620caa-99d8-4f81-836b-e62105d887bb",
   "metadata": {},
   "outputs": [
    {
     "name": "stdout",
     "output_type": "stream",
     "text": [
      "Retriever MAX SEQ LENGTH: 1000000000000000019884624838656\n",
      "QA model MAX SEQ LENGTH (Input limit): 512\n"
     ]
    }
   ],
   "source": [
    "# init RapidReviewSession\n",
    "sess = RapidReviewSession(\"./articles/\", \n",
    "                          (\"facebook/dpr-question_encoder-single-nq-base\", \"facebook/dpr-ctx_encoder-single-nq-base\"),\n",
    "                          \"MBZUAI/LaMini-GPT-1.5B\",\n",
    "                          100,\n",
    "                          200,\n",
    "                          50) "
   ]
  },
  {
   "cell_type": "markdown",
   "metadata": {},
   "source": [
    "Question 1"
   ]
  },
  {
   "cell_type": "code",
   "execution_count": 3,
   "metadata": {},
   "outputs": [],
   "source": [
    "# update\n",
    "prompt = \"\"\"Generate an answer with the information provided in the paragraphs. Do not repeat text\n",
    "                             \\n\\n Paragraphs: {join(documents)} \\n\\n Question: {query} \\n\\n Answer:\"\"\"\n",
    "query = \"Where was the study conducted?\"\n",
    "# Tsai et al. - 2019 - Data science for extubation prediction and value o\n",
    "params = {\n",
    "    \"Retriever\": {\"filters\":{\"article_id\": \"a5049cdf-cea7-413d-82d8-446e4cbc8f1d\"},\"top_k\" : 3},\n",
    "}"
   ]
  },
  {
   "cell_type": "code",
   "execution_count": 4,
   "metadata": {},
   "outputs": [
    {
     "name": "stderr",
     "output_type": "stream",
     "text": [
      "100%|██████████| 17/17 [00:00<00:00, 99.82it/s]\n",
      "c:\\Users\\junio\\AppData\\Local\\Programs\\Python\\Python38\\lib\\site-packages\\torch\\_utils.py:776: UserWarning: TypedStorage is deprecated. It will be removed in the future and UntypedStorage will be the only storage class. This should only matter to you if you are using storages directly.  To access UntypedStorage directly, use tensor.untyped_storage() instead of tensor.storage()\n",
      "  return self.fget.__get__(instance, owner)()\n",
      "Writing Documents: 10000it [00:00, 16279.14it/s]          \n",
      "Documents Processed: 10000 docs [00:41, 241.11 docs/s]         \n",
      "Query filters are not implemented for the FAISSDocumentStore.\n",
      "The prompt has been truncated from 415 tokens to 412 tokens so that the prompt length and answer length (100 tokens) fit within the max token limit (512 tokens). Shorten the prompt to prevent it from being cut off\n",
      "c:\\Users\\junio\\AppData\\Local\\Programs\\Python\\Python38\\lib\\site-packages\\transformers\\generation\\utils.py:1411: UserWarning: You have modified the pretrained model configuration to control generation. This is a deprecated strategy to control generation and will be removed soon, in a future version. Please use a generation configuration file (see https://huggingface.co/docs/transformers/main_classes/text_generation )\n",
      "  warnings.warn(\n",
      "Setting `pad_token_id` to `eos_token_id`:50256 for open-end generation.\n"
     ]
    },
    {
     "data": {
      "text/plain": [
       "{'W': <Answer {'answer': '\\nThe study was conducted at different information systems from which 21 hospitals were chosen for sampling purposes.', 'type': 'generative', 'score': None, 'context': None, 'offsets_in_document': None, 'offsets_in_context': None, 'document_ids': ['302e4d402e39329e02abfb000cfffe01', '244a045f460b324a2c3d33f66184fec8', '1b490570b990733178d988c927ed054c'], 'meta': {'prompt': 'Generate an answer with the information provided in the paragraphs. Do not repeat text\\n                             \\n\\n Paragraphs: 362 ) withawaiverofinformedconsent. inourempiricalstudy, thedataiscollected from intellivue clinical information portfolio ( icip ) including patient data and several electronic health records from october 2015 to september 2016. the imbalanced panel datasets including severaltablesregardingbiochemistry, arterialbloodgas ( abg ), bloodcell, glasgowcomascale ( gcs ), apache, extubation, etc. are collected from different information systems, in our case hospitals. thereare23var , 1709 8of11 j. clin. med. 2019, 8, x for peer review 8 of 11 days 1. 0 evpi 0. 8 eve 0. 6 0. 4 0. 2 0. 0 failure 199 : 1 149 : 1 124 : 1 94 : 1 64 : 1 44 : 1 24 : 1 13 : 1 9 : 1 4 : 1 3 : 1 2 : 1 1 : 1 rate 0. 5 % 0. 7 % 0. 8 % 1. 1 % 1. 5 % 2. 2 % 4. 0 % 7. 1 % 10. m. - h. h. ; formalanalysis, t. - l. t. ; investigation, m. - h. h. ; methodology, t. - l. t. andc. - y. l. ; projectadministration, w. - w. l. ; resources, m. - h. h. and w. - w. l. ; software, t. - l. t. ; supervision, c. - y. l. ; validation, c. - y. l. ; writing — originaldraft, t. - l. \\n\\n Question: Where was the study conducted? '}}>}"
      ]
     },
     "execution_count": 4,
     "metadata": {},
     "output_type": "execute_result"
    }
   ],
   "source": [
    "sess.run_query(prompt, query, params)"
   ]
  },
  {
   "cell_type": "markdown",
   "metadata": {},
   "source": [
    "Question 1"
   ]
  },
  {
   "cell_type": "code",
   "execution_count": 5,
   "metadata": {},
   "outputs": [],
   "source": [
    "# update\n",
    "prompt = \"\"\"Generate an answer with the information provided in the paragraphs. Do not repeat text\n",
    "                             \\n\\n Paragraphs: {join(documents)} \\n\\n Question: {query} \\n\\n Answer:\"\"\"\n",
    "query = \"Where was the study conducted?\"\n",
    "# D'Andrea et al. - 2020 - A bronchial-airway gene-expression classifier to i\n",
    "params = {\n",
    "    \"Retriever\": {\"filters\":{\"article_id\": \"1cdb31a4-64cc-4d23-b662-924d12bf93ca\"},\"top_k\" : 3},\n",
    "}"
   ]
  },
  {
   "cell_type": "code",
   "execution_count": 6,
   "metadata": {},
   "outputs": [
    {
     "name": "stderr",
     "output_type": "stream",
     "text": [
      "100%|██████████| 17/17 [00:00<00:00, 112.02it/s]\n",
      "Writing Documents: 10000it [00:00, 10334.14it/s]          \n",
      "Documents Processed: 10000 docs [00:41, 239.07 docs/s]         \n",
      "Query filters are not implemented for the FAISSDocumentStore.\n",
      "Setting `pad_token_id` to `eos_token_id`:50256 for open-end generation.\n"
     ]
    },
    {
     "data": {
      "text/plain": [
       "{'W': <Answer {'answer': ' The study was conducted in various locations including Greece and Brazil.', 'type': 'generative', 'score': None, 'context': None, 'offsets_in_document': None, 'offsets_in_context': None, 'document_ids': ['e6e751721460588f0d50aa869f754c15', 'a4f7f2c7a3cc4cf19744cfeb6d72abe7', '2fb91b54a96fbfc56d078c836218188d'], 'meta': {'prompt': 'Generate an answer with the information provided in the paragraphs. Do not repeat text\\n                             \\n\\n Paragraphs: . 72 – 8. 00 % ) egy, thetotalestimatedroppedto58. 9 ( 95 % ci, 46. 2 – 73. 2 % ). with the location - based strategy and 7. 18 % ( 95 % ci, the proportion of cancers that went undetected at the end 4. 13 – 11. 4 % ) with the simplified strategy. in the actual clinical of the first screening round was 4. 65 % ( 95 % ci, 3. 23 – 6. 62 % ) setting, thesepatientsarereferredtofollow - under the simplified for strategy. thus, overalldeathswithinthe2 - yearfollow - up, exclud - rules ing background mortality, were 3. 25 % ( 95 % ci, 1. 90 – 4. 94 % ) of following the current guidelines, 3. 27 % ( 95 % ci, 1. 98 – 4. 88 % ) ii use ; oa adopting the location - based strategy and 3. 26 % ( 95 % ci, articles 31. 91 – 4. 63 % ) withthesimplifiedstrategy. are governed – – ##hebgcanalysisforthe of and7 % segmentectomy10 – 13 ; table1 ). peripheralcancers. 9thesubsequentcaremanagementremained use ; oa in the location - based strategy, bronchoscopy plus bgc unchangedfromthestandardstrategy ( fig. 1c ). articles were used for patients with moderate / intense 18f - fdg nodule by creating identical clones of our cohort and assigning uptake and central or central and peripheral lesions, and them to different strategies, we compared diagnostic - \\n\\n Question: Where was the study conducted? \\n\\n Answer:'}}>}"
      ]
     },
     "execution_count": 6,
     "metadata": {},
     "output_type": "execute_result"
    }
   ],
   "source": [
    "sess.run_query(prompt, query, params)"
   ]
  },
  {
   "cell_type": "markdown",
   "metadata": {},
   "source": [
    "Question that is completely out of context"
   ]
  },
  {
   "cell_type": "code",
   "execution_count": 7,
   "metadata": {},
   "outputs": [],
   "source": [
    "# update\n",
    "prompt = \"\"\"Generate an answer with the information provided in the paragraphs. Do not repeat text\n",
    "                             \\n\\n Paragraphs: {join(documents)} \\n\\n Question: {query} \\n\\n Answer:\"\"\"\n",
    "query = \"What is the prices for first bidding in January 2020?\"\n",
    "# Ashour and Kremer - 2013 - A simulation analysis of the impact of FAHP-MAUT t\n",
    "params = {\n",
    "    \"Retriever\": {\"filters\":{\"article_id\": \"6786b903-b18e-45d4-b202-d957b6b70431\"},\"top_k\" : 3},\n",
    "}"
   ]
  },
  {
   "cell_type": "code",
   "execution_count": 8,
   "metadata": {},
   "outputs": [
    {
     "name": "stderr",
     "output_type": "stream",
     "text": [
      "100%|██████████| 17/17 [00:00<00:00, 102.13it/s]\n",
      "Writing Documents: 10000it [00:00, 12896.57it/s]          \n",
      "Documents Processed: 10000 docs [00:41, 241.76 docs/s]         \n",
      "Query filters are not implemented for the FAISSDocumentStore.\n",
      "The prompt has been truncated from 421 tokens to 412 tokens so that the prompt length and answer length (100 tokens) fit within the max token limit (512 tokens). Shorten the prompt to prevent it from being cut off\n",
      "Setting `pad_token_id` to `eos_token_id`:50256 for open-end generation.\n"
     ]
    },
    {
     "data": {
      "text/plain": [
       "{'W': <Answer {'answer': ' and second choice plans at the end of the simulated training?\\nThe pricing data for first and second choice plans at the end of the simi sple is not provided in the given paragraphs so I am unable to answer that question.', 'type': 'generative', 'score': None, 'context': None, 'offsets_in_document': None, 'offsets_in_context': None, 'document_ids': ['faf69c5267df3064af2139fec95e43da', 'dffbca05fd55caa1a094cbca3c4b2b9f', 'd1b78a640dca1078d000baa4a49c434d'], 'meta': {'prompt': 'Generate an answer with the information provided in the paragraphs. Do not repeat text\\n                             \\n\\n Paragraphs: < 1 ; if c j > d j process. u ¼ 0 ; otherwise ð3þ j > : 3. 4. input / output inotherwords, whenthetardinessisgreaterthan0, weassign1. otherwise, weassign0. inourcase, weareusingthesameanalogy. thesystemvariablesusedinthesimulationmodelincludein - the canadian triage and acuity scale ( ctas ) is used to setup ter - arrivaltimes, treatmenttimes, delaytimes ( greeting ) timetobed _ esi5 2. 03 31. 60 35. 94 140. 48 343. 53 2. 19 31. 37 36. 38 156. 34 372. 33 2. 16 31. 52 36. 55 148. 73 347. 63 2. 11 31. 46 37. 76 143. 40 352. 89 2. 10 31. 49 36. 06 140. 60 345. 58 2. 26 31. 82 35. 96 140. 78 359. 83 2. 25 31. 38 35. 15 128. 16 335. 26 2. 25 31. – fahp – fahp – maut ) maut ) maut ) maut ) maut ) < 0. 5min 25 / 26 – – – – < 15min – 100 / 100 – – – < 30min – 56 / 66 64 / 67 – – < 60min – – – 61 / 34 – < 120min – – – – 70 / 25 interpreted carefully, because any patient who is waiting longer thantheyshouldaspertheiracuitylevelwillbeadverselyaffected. accordingly, we re - evaluated the comparison after setting an upperlim \\n\\n Question: What is the prices for first'}}>}"
      ]
     },
     "execution_count": 8,
     "metadata": {},
     "output_type": "execute_result"
    }
   ],
   "source": [
    "sess.run_query(prompt, query, params)"
   ]
  },
  {
   "cell_type": "code",
   "execution_count": null,
   "metadata": {},
   "outputs": [],
   "source": []
  }
 ],
 "metadata": {
  "kernelspec": {
   "display_name": "Python 3 (ipykernel)",
   "language": "python",
   "name": "python3"
  },
  "language_info": {
   "codemirror_mode": {
    "name": "ipython",
    "version": 3
   },
   "file_extension": ".py",
   "mimetype": "text/x-python",
   "name": "python",
   "nbconvert_exporter": "python",
   "pygments_lexer": "ipython3",
   "version": "3.8.10"
  }
 },
 "nbformat": 4,
 "nbformat_minor": 5
}

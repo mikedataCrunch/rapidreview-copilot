{
 "cells": [
  {
   "cell_type": "markdown",
   "id": "4b3571b1",
   "metadata": {},
   "source": [
    "# PDF Set up\n",
    "\n",
    "This notebook demonstrates a extraction of text from PDFs for articles in Zotero's private library (pre-extracted PDFs). "
   ]
  },
  {
   "cell_type": "code",
   "execution_count": 2,
   "id": "ab139862",
   "metadata": {
    "tags": []
   },
   "outputs": [
    {
     "name": "stderr",
     "output_type": "stream",
     "text": [
      "/home/jovyan/pillcam-volume/root/miniconda3/envs/rrc_env/lib/python3.9/site-packages/tqdm/auto.py:21: TqdmWarning: IProgress not found. Please update jupyter and ipywidgets. See https://ipywidgets.readthedocs.io/en/stable/user_install.html\n",
      "  from .autonotebook import tqdm as notebook_tqdm\n",
      "/home/jovyan/pillcam-volume/root/miniconda3/envs/rrc_env/lib/python3.9/site-packages/transformers/utils/generic.py:311: UserWarning: torch.utils._pytree._register_pytree_node is deprecated. Please use torch.utils._pytree.register_pytree_node instead.\n",
      "  torch.utils._pytree._register_pytree_node(\n",
      "/home/jovyan/pillcam-volume/root/miniconda3/envs/rrc_env/lib/python3.9/site-packages/transformers/utils/generic.py:311: UserWarning: torch.utils._pytree._register_pytree_node is deprecated. Please use torch.utils._pytree.register_pytree_node instead.\n",
      "  torch.utils._pytree._register_pytree_node(\n",
      "/home/jovyan/pillcam-volume/root/miniconda3/envs/rrc_env/lib/python3.9/site-packages/transformers/utils/generic.py:311: UserWarning: torch.utils._pytree._register_pytree_node is deprecated. Please use torch.utils._pytree.register_pytree_node instead.\n",
      "  torch.utils._pytree._register_pytree_node(\n",
      "/home/jovyan/pillcam-volume/root/miniconda3/envs/rrc_env/lib/python3.9/site-packages/PyPDF2/__init__.py:21: DeprecationWarning: PyPDF2 is deprecated. Please move to the pypdf library instead.\n",
      "  warnings.warn(\n"
     ]
    }
   ],
   "source": [
    "# imports\n",
    "REPO_ROOT = \"/home/jovyan/pillcam-volume/rapidreview-copilot\" # enter path too the rapidreview-copilot repository\n",
    "\n",
    "import sys\n",
    "sys.path.append(REPO_ROOT)\n",
    "import os\n",
    "from rrc.text_extraction import PDFExtractor\n",
    "from rrc.run_session import RapidReviewSession"
   ]
  },
  {
   "cell_type": "markdown",
   "id": "787fbabb",
   "metadata": {},
   "source": [
    "## Text Extraction\n",
    "\n",
    "This section demonstrates an the use of the `PDFExtractor` class which extracts text from PDFs in a source directory and stores the output in a destination directory specified by the user."
   ]
  },
  {
   "cell_type": "code",
   "execution_count": 2,
   "id": "92f83963",
   "metadata": {},
   "outputs": [],
   "source": [
    "# Create an instance of PDFExtractor\n",
    "pdf_extractor = PDFExtractor(\"./articles/\")"
   ]
  },
  {
   "cell_type": "code",
   "execution_count": 3,
   "id": "0b9cfa66",
   "metadata": {},
   "outputs": [
    {
     "name": "stdout",
     "output_type": "stream",
     "text": [
      "Extracted JSON files are stored in: ['Alenany and Cadi - 2020 - Modeling patient flow in the emergency department .json', 'Allen et al. - 2019 - Can clinical audits be enhanced by pathway simulat.json', 'Ashour and Kremer - 2013 - A simulation analysis of the impact of FAHP-MAUT t.json', \"D'Andrea et al. - 2020 - A bronchial-airway gene-expression classifier to i.json\", 'Hunter-Zinck et al. - 2019 - Predicting emergency department orders with multil.json', 'Kamalzadeh et al. - 2021 - An Analytics-Driven Approach for Optimal Individua.json', 'Kim et al. - 2021 - Optimal Triage for COVID-19 Patients Under Limited.json', 'Lee et al. - 2015 - Applying reinforcement learning techniques to dete.json', 'Misic et al. - 2021 - A simulation-based evaluation of machine learning .json', 'Rodriguez et al. - 2022 - A Framework for Using Real-World Data and Health O.json', 'Rogers et al. - 2023 - Optimizing the Implementation of Clinical Predicti.json', 'Tang et al. - 2021 - Step-adjusted tree-based reinforcement learning fo.json', 'Tardini et al. - 2022 - Optimal Treatment Selection in Sequential Systemic.json', 'Thompson et al. - 2023 - Evaluation of wait time saving effectiveness of tr.json', 'Tsai et al. - 2019 - Data science for extubation prediction and value o.json', 'Wornow et al. - 2023 - APLUS A Python library for usefulness simulations.json', 'Ziegelmayer et al. - 2022 - Cost-Effectiveness of Artificial Intelligence Supp.json']\n"
     ]
    }
   ],
   "source": [
    "# Create an instance of PDFExtractor\n",
    "pdf_extractor = PDFExtractor(\"./articles/\")\n",
    "\n",
    "# Call mass_extract function to extract text from PDFs\n",
    "extracted_dir = pdf_extractor.mass_extract(extractor='pdfplumber', dest_dir=\"./articles/\")\n",
    "\n",
    "# Print the directory where the extracted JSON files are stored\n",
    "print(f\"Extracted JSON files are stored in: {extracted_dir}\")"
   ]
  },
  {
   "cell_type": "code",
   "execution_count": 4,
   "id": "e649318b",
   "metadata": {},
   "outputs": [
    {
     "data": {
      "text/plain": [
       "'./articles/'"
      ]
     },
     "execution_count": 4,
     "metadata": {},
     "output_type": "execute_result"
    }
   ],
   "source": [
    "pdf_extractor.get_extracted()"
   ]
  }
 ],
 "metadata": {
  "kernelspec": {
   "display_name": "rrc_env",
   "language": "python",
   "name": "rrc_env"
  },
  "language_info": {
   "codemirror_mode": {
    "name": "ipython",
    "version": 3
   },
   "file_extension": ".py",
   "mimetype": "text/x-python",
   "name": "python",
   "nbconvert_exporter": "python",
   "pygments_lexer": "ipython3",
   "version": "3.9.18"
  }
 },
 "nbformat": 4,
 "nbformat_minor": 5
}

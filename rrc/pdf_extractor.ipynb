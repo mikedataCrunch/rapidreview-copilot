{
 "cells": [
  {
   "cell_type": "code",
   "execution_count": 1,
   "metadata": {},
   "outputs": [],
   "source": [
    "from text_extraction import PDFExtractor"
   ]
  },
  {
   "cell_type": "code",
   "execution_count": null,
   "metadata": {},
   "outputs": [],
   "source": [
    "# Define test parameters\n",
    "src_dir = \"D:\\SingHealth\\Week 4\"\n",
    "extractor_type = \"pdfplumber\"\n",
    "pdf_path = \"41512_2019_Article_60.pdf\"\n",
    "\n",
    "# Create an instance of the PDFExtractor class\n",
    "extractor = PDFExtractor(src_dir)\n",
    "\n",
    "# Test the extract method\n",
    "result = extractor.extract(extractor_type, pdf_path)\n",
    "\n",
    "# Print or inspect the result\n",
    "print(result)"
   ]
  },
  {
   "cell_type": "code",
   "execution_count": 3,
   "metadata": {},
   "outputs": [
    {
     "name": "stdout",
     "output_type": "stream",
     "text": [
      "Extracted text saved in temporary directory: C:\\Users\\ERNEST~1\\AppData\\Local\\Temp\\tmpi2byjk0p\n"
     ]
    }
   ],
   "source": [
    "# Import the PDFExtractor class if not already imported\n",
    "\n",
    "# Define test parameters\n",
    "src_dir = \"D:\\SingHealth\\Week 3\"\n",
    "extractor_type = \"pdfplumber\"\n",
    "\n",
    "# Create an instance of the PDFExtractor class\n",
    "extractor = PDFExtractor(src_dir)\n",
    "\n",
    "# Test the mass_extract method\n",
    "temp_dir = extractor.mass_extract()\n",
    "\n",
    "# Print or inspect the temporary directory where JSON files are stored\n",
    "print(f\"Extracted text saved in temporary directory: {temp_dir}\")"
   ]
  },
  {
   "cell_type": "code",
   "execution_count": null,
   "metadata": {},
   "outputs": [],
   "source": []
  }
 ],
 "metadata": {
  "kernelspec": {
   "display_name": "base",
   "language": "python",
   "name": "python3"
  },
  "language_info": {
   "codemirror_mode": {
    "name": "ipython",
    "version": 3
   },
   "file_extension": ".py",
   "mimetype": "text/x-python",
   "name": "python",
   "nbconvert_exporter": "python",
   "pygments_lexer": "ipython3",
   "version": "3.9.7"
  },
  "orig_nbformat": 4
 },
 "nbformat": 4,
 "nbformat_minor": 2
}

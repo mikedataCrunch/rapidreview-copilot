{
 "cells": [
  {
   "cell_type": "code",
   "execution_count": 1,
   "metadata": {},
   "outputs": [],
   "source": [
    "# import library\n",
    "from text_extraction import PDFExtractor\n",
    "import os"
   ]
  },
  {
   "cell_type": "code",
   "execution_count": 2,
   "metadata": {},
   "outputs": [
    {
     "name": "stdout",
     "output_type": "stream",
     "text": [
      "[{'page': 1, 'extracted text': 'NATIONAL PARTNERSHIP FOR QUALITY AFTERSCHOOL LEARNING\\nwww.sedl.org/afterschool/toolkits\\n����������� �������� �������\\nTutoring to Enhance Science Skills\\nTutoring Two: Learning to Make Data Tables\\n..............................................................................................\\nSample Data for Data Tables\\nUse these data to create data tables following the Guidelines for Making a Data Table and\\nChecklist for a Data Table.\\nExample 1: Pet Survey (GR 2–3)\\nMs. Hubert’s afterschool students took a survey of the 600 students at Morales Elementary\\nSchool. Students were asked to select their favorite pet from a list of eight animals. Here\\nare the results.\\nLizard 25, Dog 250, Cat 115, Bird 50, Guinea pig 30, Hamster 45, Fish 75,\\nFerret 10\\nExample 2: Electromagnets—Increasing Coils (GR 3–5)\\nThe following data were collected using an electromagnet with a 1.5 volt battery, a switch,\\na piece of #20 insulated wire, and a nail. Three trials were run. Safety precautions in\\nrepeating this experiment include using safety goggles or safety spectacles and avoiding\\nshort circuits.\\nExample 3: pH of Substances (GR 5–10)\\nThe following are pH values of common household substances taken by three different\\nteams using pH probes. Safety precautions in repeating this experiment include hooded\\nventilation, chemical-splash safety goggles, gloves, and apron. Do not use bleach,\\nammonia, or strong acids with children.\\nLemon juice 2.4, 2.0, 2.2; Baking soda (1 Tbsp) in Water (1 cup) 8.4, 8.3, 8.7;\\nOrange juice 3.5, 4.0, 3.4; Battery acid 1.0, 0.7, 0.5; Apples 3.0, 3.2, 3.5;\\nTomatoes 4.5, 4.2, 4.0; Bottled water 6.7, 7.0, 7.2; Milk of magnesia 10.5, 10.3,\\n10.6; Liquid hand soap 9.0, 10.0, 9.5; Vinegar 2.2, 2.9, 3.0; Household bleach\\n12.5, 12.5, 12.7; Milk 6.6, 6.5, 6.4; Household ammonia 11.5, 11.0, 11.5;\\nLye 13.0, 13.5, 13.4; and Sodium hydroxide 14.0, 14.0, 13.9; Anti-freeze 10.1,\\n10.9, 9.7; Windex 9.9. 10.2, 9.5; Liquid detergent 10.5, 10.0, 10.3; and\\nCola 3.0, 2.5, 3.2\\nTeaching tip: The pH scale is from 0 to 14. Have students make two data tables, one\\nwith the data as given and one with the pH scale 0 to 14 with the substances’ average\\npH in rank order on the scale (Battery acid at the lower end and Sodium hydroxide at\\nthe upper end) or create a pH graphic organizer.\\n1'}, {'page': 2, 'extracted text': 'Example 4: Automobile Land Speed Records (GR 5-10)\\nIn the first recorded automobile race in 1898, Count Gaston de Chasseloup-Laubat of\\nParis, France, drove 1 kilometer in 57 seconds for an average speed of 39.2 miles per hour\\n(mph) or 63.1 kilometers per hour (kph). In 1904, Henry Ford drove his Ford Arrow across\\nfrozen Lake St. Clair, MI, at an average speed of 91.4 mph. Now, the North American\\nEagle is trying to break a land speed record of 800 mph. The Federation International de\\nL’Automobile (FIA), the world’s governing body for motor sport and land speed records,\\nrecorded the following land speed records. (Retrieved on February 5, 2006, from\\nhttp://www.landspeed.com/lsrinfo.asp.)\\nExample 5: Distance and Time (GR 8-10)\\nThe following data were collected using a car with a water clock set to release a drop in\\na unit of time and a meter stick. The car rolled down an inclined plane. Three trials were\\nrun. Create a data table with an average distance column and an average velocity column,\\ncreate an average distance-time graph, and draw the best-fit line or curve. Estimate the\\ncar’s distance traveled and velocity at six drops of water. Describe the motion of the car. Is\\nit going at a constant speed, accelerating, or decelerating? How do you know?\\n© 2006 WGBH Educational Foundation. All rights reserved.\\n2'}]\n"
     ]
    }
   ],
   "source": [
    "# Testing extract (pdfplumber)\n",
    "src_dir = \"D:\\SingHealth\\Week 4\"\n",
    "extractor_type = \"pdfplumber\"\n",
    "pdf_path = \"ast_sci_data_tables_sample.pdf\"\n",
    "\n",
    "# Create an instance of the PDFExtractor class\n",
    "extractor = PDFExtractor(src_dir)\n",
    "\n",
    "# Test the extract method\n",
    "result = extractor.extract(extractor_type, pdf_path)\n",
    "\n",
    "# Print or inspect the result\n",
    "print(result)"
   ]
  },
  {
   "cell_type": "code",
   "execution_count": 3,
   "metadata": {},
   "outputs": [
    {
     "name": "stdout",
     "output_type": "stream",
     "text": [
      "[{'page': 1, 'extracted text': 'Tutoring to Enhance Science Skills\\nTutoring Two:  Learning to Make Data Tables..............................................................................................\\nSample Data for Data Tables��������������������������NATIONAL PARTNERSHIP FOR QUALITY AFTERSCHOOL LEARNING\\nwww.sedl.org/afterschool/toolkits\\nUse these data to create data tables following the Guidelines for Making a Data Table and \\nChecklist for a Data Table.\\nExample 1: Pet Survey (GR 2–3)\\nMs. Hubert’s afterschool students took a survey of the 600 students at Morales Elementary \\nSchool. Students were asked to select their favorite pet from a list of eight animals. Here \\nare the results. \\nLizard 25, Dog 250, Cat 115, Bird 50, Guinea pig 30, Hamster 45, Fish 75, \\nFerret 10 \\nExample 2: Electromagnets—Increasing Coils (GR 3–5)\\nThe following data were collected using an electromagnet with a 1.5 volt battery, a switch, \\na piece of #20 insulated wire, and a nail. Three trials were run. Safety precautions in \\nrepeating this experiment include using safety goggles or safety spectacles and avoiding \\nshort circuits.  \\n  Number of Coils         Number of Paperclips\\n 5 3, 5, 4\\n 10        7, 8, 6\\n 15  11, 10, 12\\n 20  15, 13, 14\\n    \\nExample 3: pH of Substances (GR 5–10)\\nThe following are pH values of common household substances taken by three different \\nteams using pH probes. Safety precautions in repeating this experiment include hooded \\nventilation, chemical-splash safety goggles, gloves, and apron. Do not use bleach, \\nammonia, or strong acids with children.\\nLemon juice 2.4, 2.0, 2.2; Baking soda (1 Tbsp) in Water (1 cup) 8.4, 8.3, 8.7; \\nOrange juice 3.5, 4.0, 3.4; Battery acid 1.0, 0.7, 0.5; Apples 3.0, 3.2, 3.5; \\nTomatoes 4.5, 4.2, 4.0; Bottled water 6.7, 7.0, 7.2; Milk of magnesia 10.5, 10.3, \\n10.6; Liquid hand soap 9.0, 10.0, 9.5; Vinegar 2.2, 2.9, 3.0; Household bleach \\n12.5, 12.5, 12.7; Milk 6.6, 6.5, 6.4; Household ammonia 11.5, 11.0, 11.5;\\nLye 13.0, 13.5, 13.4; and Sodium hydroxide 14.0, 14.0, 13.9; Anti-freeze 10.1, \\n10.9, 9.7; Windex 9.9. 10.2, 9.5; Liquid detergent 10.5, 10.0, 10.3; and \\nCola 3.0, 2.5, 3.2\\nTeaching tip:  The pH scale is from 0 to 14. Have students make two data tables, one \\nwith the data as given and one with the pH scale 0 to 14 with the substances’ average \\npH in rank order on the scale (Battery acid at the lower end and Sodium hydroxide at \\nthe upper end) or create a pH graphic organizer .\\n1'}, {'page': 2, 'extracted text': '© 2006 WGBH Educational Foundation. All rights reserved.Example 4: Automobile Land Speed Records (GR 5-10)\\nIn the first recorded automobile race in 1898, Count Gaston de Chasseloup-Laubat of \\nParis, France, drove 1 kilometer in 57 seconds for an average speed of 39.2 miles per hour \\n(mph) or 63.1 kilometers per hour (kph). In 1904, Henry Ford drove his Ford Arrow across \\nfrozen Lake St. Clair, MI, at an average speed of 91.4 mph. Now, the North American \\nEagle is trying to break a land speed record of 800 mph. The Federation International de \\nL’Automobile (FIA), the world’s governing body for motor sport and land speed records, \\nrecorded the following land speed records. (Retrieved on February 5, 2006, from \\nhttp://www.landspeed.com/lsrinfo.asp .)\\nSpeed (mph)\\n407.447\\n413.199\\n434.22\\n468.719\\n526.277\\n536.712\\n555.127\\n576.553\\n600.601\\n622.407\\n633.468\\n763.035Driver\\nCraig Breedlove\\nTom Green \\nArt Arfons\\nCraig Breedlove\\nCraig Breedlove\\nArt Arfons\\nCraig Breedlove\\nArt Arfons\\nCraig Breedlove\\nGary Gabelich\\nRichard Noble \\nAndy GreenCar\\nSpirit of America \\nWingfoot Express \\nGreen Monster \\nSpirit of America\\nSpirit of America\\nGreen Monster \\nSpirit of America, Sonic 1 \\nGreen Monster \\nSpirit of America, Sonic 1\\nBlue Flame \\nThrust 2 \\nThrust SSCEngine\\nGE J47\\nWE J46  \\nGE J79 \\nGE J79 \\nGE J79 \\nGE J79  \\nGE J79 \\nGE J79 \\nGE J79 \\nRocket \\nRR RG 146 \\nRR SpeyDate\\n8/5/63\\n10/2/64\\n10/5/64\\n10/13/64\\n10/15/65\\n10/27/65\\n11/2/65 \\n11/7/65 \\n11/15/65 \\n10/23/70  \\n10/4/83  \\n10/15/97\\nExample 5: Distance and Time (GR 8-10)\\nThe following data were collected using a car with a water clock set to release a drop in \\na unit of time and a meter stick. The car rolled down an inclined plane. Three trials were \\nrun. Create a data table with an average distance column and an average velocity column, \\ncreate an average distance-time graph, and draw the best-fit line or curve. Estimate the \\ncar’s distance traveled and velocity at six drops of water. Describe the motion of the car. Is \\nit going at a constant speed, accelerating, or decelerating? How do you know?\\n   Time (drops of water)           Distance (cm)\\n 1  10,11,9\\n 2  29, 31, 30\\n 3  59, 58, 61\\n 4  102, 100, 98\\n 5  122, 125, 127    \\n     \\n2'}]\n"
     ]
    }
   ],
   "source": [
    "# Testing extract (PdfReader)\n",
    "src_dir = \"D:\\SingHealth\\Week 4\"\n",
    "extractor_type = \"PdfReader\"\n",
    "pdf_path = \"ast_sci_data_tables_sample.pdf\"\n",
    "\n",
    "# Create an instance of the PDFExtractor class\n",
    "extractor = PDFExtractor(src_dir)\n",
    "\n",
    "# Test the extract method\n",
    "result = extractor.extract(extractor_type, pdf_path)\n",
    "\n",
    "# Print or inspect the result\n",
    "print(result)"
   ]
  },
  {
   "cell_type": "code",
   "execution_count": 4,
   "metadata": {},
   "outputs": [
    {
     "name": "stdout",
     "output_type": "stream",
     "text": [
      "Extracted JSON files are stored in: D:\\SingHealth\\local\n"
     ]
    }
   ],
   "source": [
    "# Create an instance of PDFExtractor\n",
    "src_dir = 'D:\\SingHealth\\Week 4'\n",
    "pdf_extractor = PDFExtractor(src_dir=src_dir)\n",
    "\n",
    "# Call mass_extract function to extract text from PDFs\n",
    "output_dir = pdf_extractor.mass_extract(extractor='pdfplumber', include_meta=False, dest_dir='D:\\SingHealth\\local')\n",
    "\n",
    "# Print the directory where the extracted JSON files are stored\n",
    "print(f\"Extracted JSON files are stored in: {output_dir}\")"
   ]
  },
  {
   "cell_type": "code",
   "execution_count": 5,
   "metadata": {},
   "outputs": [
    {
     "name": "stdout",
     "output_type": "stream",
     "text": [
      "Extracted JSON files are stored in: D:\\SingHealth\\local\n"
     ]
    }
   ],
   "source": [
    "# Create an instance of PDFExtractor\n",
    "src_dir = 'D:\\SingHealth\\Week 4'\n",
    "pdf_extractor = PDFExtractor(src_dir=src_dir)\n",
    "\n",
    "# Call mass_extract function to extract text from PDFs\n",
    "output_dir = pdf_extractor.mass_extract(extractor='PdfReader', include_meta=False, dest_dir='D:\\SingHealth\\local')\n",
    "\n",
    "# Print the directory where the extracted JSON files are stored\n",
    "print(f\"Extracted JSON files are stored in: {output_dir}\")"
   ]
  }
 ],
 "metadata": {
  "kernelspec": {
   "display_name": "base",
   "language": "python",
   "name": "python3"
  },
  "language_info": {
   "codemirror_mode": {
    "name": "ipython",
    "version": 3
   },
   "file_extension": ".py",
   "mimetype": "text/x-python",
   "name": "python",
   "nbconvert_exporter": "python",
   "pygments_lexer": "ipython3",
   "version": "3.9.7"
  },
  "orig_nbformat": 4
 },
 "nbformat": 4,
 "nbformat_minor": 2
}
